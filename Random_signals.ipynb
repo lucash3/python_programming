{
  "nbformat": 4,
  "nbformat_minor": 0,
  "metadata": {
    "colab": {
      "name": "Tarefa_2_Lucas_Welligtton.ipynb",
      "provenance": [],
      "include_colab_link": true
    },
    "kernelspec": {
      "name": "python3",
      "display_name": "Python 3"
    }
  },
  "cells": [
    {
      "cell_type": "markdown",
      "metadata": {
        "id": "view-in-github",
        "colab_type": "text"
      },
      "source": [
        "<a href=\"https://colab.research.google.com/github/lucash3/python_programming/blob/main/Random_signals.ipynb\" target=\"_parent\"><img src=\"https://colab.research.google.com/assets/colab-badge.svg\" alt=\"Open In Colab\"/></a>"
      ]
    },
    {
      "cell_type": "markdown",
      "metadata": {
        "id": "gDbB4q0jDxHx"
      },
      "source": [
        "# **Questão 1 - Letra F**\n",
        "\n",
        ">  Crie funções de plotagem para cada função descrita nos itens de (a) a\n",
        "(e), bem como para a taxa de erro de detecção em função dos diferentes valores de\n",
        "razão sinal/ruído  "
      ]
    },
    {
      "cell_type": "code",
      "metadata": {
        "id": "V0psWqzKBkS-"
      },
      "source": [
        "import matplotlib.pyplot as plt\n",
        "def plot(x_values=[], y_values=[], x_label=\"\", y_label=\"\", title=\"Plot\"):\n",
        "    \n",
        "    plt.plot(x_values, y_values)   \n",
        "    plt.xlabel(x_label)\n",
        "    plt.ylabel(y_label)   \n",
        "    plt.title(title)\n",
        "    plt.grid()\n",
        "    plt.show() "
      ],
      "execution_count": null,
      "outputs": []
    },
    {
      "cell_type": "markdown",
      "metadata": {
        "id": "qCmVoaXQDj6P"
      },
      "source": [
        "# **Questão 1 - Letra A**\n",
        "\n",
        "> Crie uma função que gera um bitstream aleatório de tamanho\n",
        "arbitrário a ser fornecido como parâmetro da função. Pesquise como se cria um\n",
        "conjunto de números aleatórios uniformemente distribuídos e que podem assumir,\n",
        "de forma equiprovável, apenas os valores –Ap, para representar o bit 0, e +Ap, para\n",
        "representar o bit 1. Pesquise, ainda, e empregue a definição de seed.  "
      ]
    },
    {
      "cell_type": "code",
      "metadata": {
        "id": "x5Rgm8BFBAB6",
        "colab": {
          "base_uri": "https://localhost:8080/",
          "height": 35
        },
        "outputId": "b98d3510-b710-4337-9a54-ae3e9a286aee"
      },
      "source": [
        "import numpy as np\n",
        "np.random.seed(30)       #usando seed\n",
        "#parametrizado: binario, tamanho arbitrario, equiprovavel\n",
        "bitstream = np.random.choice([0, 1], size = (10,), p = [1./2, 1./2]) \n",
        "bitstream"
      ],
      "execution_count": null,
      "outputs": [
        {
          "output_type": "execute_result",
          "data": {
            "text/plain": [
              "array([1, 0, 1, 0, 1, 0, 1, 0, 1, 0])"
            ]
          },
          "metadata": {
            "tags": []
          },
          "execution_count": 24
        }
      ]
    },
    {
      "cell_type": "code",
      "metadata": {
        "id": "Xn2OJZbECIBz"
      },
      "source": [
        "import math\n",
        "import numpy as np\n",
        "def porta(largura = 1, fs = 1000, shift = 0):\n",
        "    \n",
        "    pontos = np.arange(-largura, largura, 1 / fs)    \n",
        "    padding_door = np.zeros(math.ceil(int(largura * fs / 2)))   \n",
        "    door = np.ones(int(fs * largura))\n",
        "    output = np.concatenate((padding_door, padding_door, door))\n",
        "    return pontos, output\n",
        "def portA(largura = 1, fs = 1000, shift = 0):\n",
        "    \n",
        "    pontos = np.arange(-largura, largura, 1 / fs)    \n",
        "    padding_door = np.zeros(math.ceil(int(largura * fs / 2)))   \n",
        "    door = np.ones(int(fs * largura))\n",
        "    output = np.concatenate((padding_door, door, padding_door))\n",
        "    return pontos, output\n",
        "portA_rect, recT = portA(1, 1000)"
      ],
      "execution_count": null,
      "outputs": []
    },
    {
      "cell_type": "markdown",
      "metadata": {
        "id": "ahMlmg0ADXrg"
      },
      "source": [
        "# **Questão 1 - Letra B**\n",
        "\n",
        ">  Crie uma função que gera um trem de impulsos inicialmente unitários\n",
        "de período TS, que deverá, em seguida, ser ponderado, nos instantes em que a\n",
        "função trem de impulsos é não nula, pelos valores correspondentes ao bitstream\n",
        "gerado no item anterior. O valor de TS deverá ser definido/ajustado de forma que\n",
        "se adeque com o problema como um todo. \n",
        " "
      ]
    },
    {
      "cell_type": "code",
      "metadata": {
        "id": "wkLZyz-zBdpB",
        "colab": {
          "base_uri": "https://localhost:8080/",
          "height": 313
        },
        "outputId": "188aab43-1e22-4abd-a29f-9aa9100e4a66"
      },
      "source": [
        "def trem_impulsos(janela_tempo=1, periodo=0.1, fs=100):\n",
        "    \n",
        "    pontos = np.arange(0, janela_tempo, 1/fs)\n",
        "    s_periodo = fs*periodo\n",
        "    trem_impulsos = np.zeros(pontos.size)  \n",
        "    i = 0\n",
        "    for j in range(0, pontos.size, int(s_periodo)):\n",
        "        trem_impulsos[j] = bitstream[i]\n",
        "        i = i +1\n",
        "    return pontos, trem_impulsos\n",
        "\n",
        "\n",
        "np.random.seed(30)       #usando seed\n",
        "bitstream = np.random.choice([0, 1], size = (10,), p = [1./2, 1./2])\n",
        "trem_imp, imp = trem_impulsos(10,1,1000)\n",
        "plot(trem_imp, imp, \"Tempo(s)\", \"Amplitude\", \"Trem de Impulsos\")\n",
        "bitstream"
      ],
      "execution_count": null,
      "outputs": [
        {
          "output_type": "display_data",
          "data": {
            "image/png": "[encoded data removed]",
            "text/plain": [
              "<Figure size 432x288 with 1 Axes>"
            ]
          },
          "metadata": {
            "tags": [],
            "needs_background": "light"
          }
        },
        {
          "output_type": "execute_result",
          "data": {
            "text/plain": [
              "array([1, 0, 1, 0, 1, 0, 1, 0, 1, 0])"
            ]
          },
          "metadata": {
            "tags": []
          },
          "execution_count": 25
        }
      ]
    },
    {
      "cell_type": "markdown",
      "metadata": {
        "id": "KxRevdNEDM6s"
      },
      "source": [
        "# **Questão 1 - Letra C**\n",
        "\n",
        ">   Crie uma função que gera o sinal modulado NRZ citado no enunciado\n",
        "da questão, que receba parâmetros, incluindo-se a taxa de amostragem, a taxa de\n",
        "transmissão em bits por segundo (bps), entre outros que se façam necessários.\n",
        "Sugere-se que se obtenha o sinal modulado NRZ como resultado da convolução de\n",
        "uma função porta p(t) e um trem de impulsos ponderados. Veja na teoria descrita\n",
        "no Lathi a que corresponde essa sugestão. \n"
      ]
    },
    {
      "cell_type": "code",
      "metadata": {
        "id": "4PbdsD4fCR8q",
        "colab": {
          "base_uri": "https://localhost:8080/",
          "height": 295
        },
        "outputId": "c9db9f75-371c-433a-e777-a4cebfa1ce4d"
      },
      "source": [
        "np.random.seed(30)       #usando seed\n",
        "bitstream = np.random.choice([-1, 1], size = (10,), p = [1./2, 1./2])\n",
        "trem_imp, imp = trem_impulsos(10,1,1000) # trem_impulso(tempo de duração, período do impulso, frequência de amostragem)\n",
        "porta_rect, rect = porta(1,1000) # porta(largura da porta, frequência de amostragem)\n",
        "\n",
        "def convolucao(sinal = [], kernel =[]):\n",
        "    \n",
        "    kernel = np.flip(kernel)\n",
        "    sinal = np.array(sinal)\n",
        "    saida = np.zeros(sinal.size)\n",
        "    for i in range(0,sinal.size - kernel.size):\n",
        "        saida[i] = np.dot(sinal[i:i + kernel.size], kernel)\n",
        "    return saida[:sinal.size - kernel.size]\n",
        "\n",
        "convoluc = convolucao(imp, rect)\n",
        "plot(trem_imp[:len(convoluc)], convoluc[:len(convoluc)], \"Tempo(s)\",\"Amplitude\",\"Sinal Modulado NRZ\")\n"
      ],
      "execution_count": null,
      "outputs": [
        {
          "output_type": "display_data",
          "data": {
            "image/png": "[encoded data removed]",
            "text/plain": [
              "<Figure size 432x288 with 1 Axes>"
            ]
          },
          "metadata": {
            "tags": [],
            "needs_background": "light"
          }
        }
      ]
    },
    {
      "cell_type": "markdown",
      "metadata": {
        "id": "kmTlXsyWCo6B"
      },
      "source": [
        "# **Questão 1 - Letra D**\n",
        "\n",
        ">  Crie uma função que gere um sinal modulado NRZ contaminado pelo\n",
        "ruído n(t), nos instantes t observados no processo de amostragem, conforme\n",
        "descrito no enunciado da questão, em que se definam os parâmetros necessários. \n",
        "\n",
        "\n"
      ]
    },
    {
      "cell_type": "code",
      "metadata": {
        "id": "5Oz7YJkPCn6D",
        "colab": {
          "base_uri": "https://localhost:8080/",
          "height": 330
        },
        "outputId": "1af16b8f-a9a4-4b34-a1b3-3ad25347c8d3"
      },
      "source": [
        "noise = np.random.normal(0,1,8000)\n",
        "convoluc = convolucao(imp, rect) \n",
        "nrz_cont = convoluc + noise\n",
        "plot(trem_imp[:8000], nrz_cont[:8000], \"Tempo(s)\",\"Amplitude\",\"Sinal Modulado NRZ contaminado pelo Ruído\")\n",
        "noise"
      ],
      "execution_count": null,
      "outputs": [
        {
          "output_type": "display_data",
          "data": {
            "image/png": "[encoded data removed]",
            "text/plain": [
              "<Figure size 432x288 with 1 Axes>"
            ]
          },
          "metadata": {
            "tags": [],
            "needs_background": "light"
          }
        },
        {
          "output_type": "execute_result",
          "data": {
            "text/plain": [
              "array([ 0.13429659, -1.10685547,  1.57822555, ...,  1.61207102,\n",
              "        0.92097499, -1.17851281])"
            ]
          },
          "metadata": {
            "tags": []
          },
          "execution_count": 27
        }
      ]
    }
  ]
}