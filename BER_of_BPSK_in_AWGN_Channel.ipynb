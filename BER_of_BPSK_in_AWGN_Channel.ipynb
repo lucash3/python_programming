{
  "nbformat": 4,
  "nbformat_minor": 0,
  "metadata": {
    "colab": {
      "name": "Tarefa6_Lucas_Welligtton.ipynb",
      "provenance": [],
      "collapsed_sections": [],
      "include_colab_link": true
    },
    "kernelspec": {
      "name": "python3",
      "display_name": "Python 3"
    }
  },
  "cells": [
    {
      "cell_type": "markdown",
      "metadata": {
        "id": "view-in-github",
        "colab_type": "text"
      },
      "source": [
        "<a href=\"https://colab.research.google.com/github/lucash3/python_programming/blob/main/BER_of_BPSK_in_AWGN_Channel.ipynb\" target=\"_parent\"><img src=\"https://colab.research.google.com/assets/colab-badge.svg\" alt=\"Open In Colab\"/></a>"
      ]
    },
    {
      "cell_type": "markdown",
      "metadata": {
        "id": "fTqvUAm33XlK"
      },
      "source": [
        "# **Tarefa Bissemanal 6**"
      ]
    },
    {
      "cell_type": "code",
      "metadata": {
        "id": "f6-gSeXm1HO3"
      },
      "source": [
        "import numpy as np \n",
        "from math import pi\n",
        "import matplotlib.pyplot as plt \n",
        "import matplotlib\n",
        "import scipy.signal as signal\n",
        "import math\n",
        "from scipy.special import erfc "
      ],
      "execution_count": null,
      "outputs": []
    },
    {
      "cell_type": "markdown",
      "metadata": {
        "id": "K8gl6Y0Z3x80"
      },
      "source": [
        " Banco de Funções referente a questão 2"
      ]
    },
    {
      "cell_type": "code",
      "metadata": {
        "id": "JZD82xVO1QBb",
        "colab": {
          "base_uri": "https://localhost:8080/",
          "height": 297
        },
        "outputId": "41e710bb-db2b-48b2-a458-a5b1c5717872"
      },
      "source": [
        "def p(t):\n",
        "    \"\"\"Porta retangular\"\"\"\n",
        "    return 1 * (abs(t) < 0.5)\n",
        "\n",
        "def pt(t):\n",
        "    \"\"\"Pulso triangular\"\"\"\n",
        "    return (1 - abs(t)) * (abs(t) < 1)\n",
        "\n",
        "def sgn(t):\n",
        "    \"\"\"Funcao Sign\"\"\"\n",
        "    return 1 * (t >= 0) - 1 * (t < 0)\n",
        "\n",
        "def u(t):\n",
        "    \"\"\"Funcao degrau unitario\"\"\"\n",
        "    return 1 * (t >= 0)\n",
        "\n",
        "funcoes = [p, pt, sgn, u]\n",
        "\n",
        "t = np.linspace(-2, 2, 1000)\n",
        "\n",
        "plt.figure()\n",
        "for i, function in enumerate(funcoes, start = 1):\n",
        "    plt.subplot(2, 2, i)\n",
        "    plt.plot(t, function(t), '-b')\n",
        "    plt.ylim((-1.1, 1.1))\n",
        "    plt.title(function.__doc__)\n",
        "plt.tight_layout()\n",
        "plt.show()"
      ],
      "execution_count": null,
      "outputs": [
        {
          "output_type": "display_data",
          "data": {
            "image/png": "[encoded data removed]",
            "text/plain": [
              "<Figure size 432x288 with 4 Axes>"
            ]
          },
          "metadata": {
            "tags": [],
            "needs_background": "light"
          }
        }
      ]
    },
    {
      "cell_type": "markdown",
      "metadata": {
        "id": "cd_xObtO382K"
      },
      "source": [
        "Parâmetros de entrada"
      ]
    },
    {
      "cell_type": "code",
      "metadata": {
        "id": "m4fm3ycG1VEx"
      },
      "source": [
        "size = 100\n",
        "taxa_amostragem = 0.01\n",
        "t = np.arange(0, size, taxa_amostragem)\n"
      ],
      "execution_count": null,
      "outputs": []
    },
    {
      "cell_type": "markdown",
      "metadata": {
        "id": "EcIOeilP4HWX"
      },
      "source": [
        "Criação da Bitstream (binária, equiprovável e aleatória)"
      ]
    },
    {
      "cell_type": "code",
      "metadata": {
        "id": "TfYX-lzp1ZTv",
        "colab": {
          "base_uri": "https://localhost:8080/",
          "height": 147
        },
        "outputId": "639a3354-bd0f-4e8c-d08d-135373312dfd"
      },
      "source": [
        "a = np.random.randint(0, 2, size) \n",
        "m = np.zeros(len(t), dtype = np.float32)\n",
        "\n",
        "for i in range(len(t)):\n",
        "    m[i] = a[math.floor(t[i])]\n",
        "\n",
        "fig = plt.figure()\n",
        "ax1 = fig.add_subplot(3, 1, 1)\n",
        "ax1.set_title(\"Sequencia aleatoria binaria\", fontsize = 15)\n",
        "plt.axis([0, size, -0.5, 1.5])\n",
        "plt.plot(t, m, 'b')     "
      ],
      "execution_count": null,
      "outputs": [
        {
          "output_type": "execute_result",
          "data": {
            "text/plain": [
              "[<matplotlib.lines.Line2D at 0x7f620f6a6898>]"
            ]
          },
          "metadata": {
            "tags": []
          },
          "execution_count": 130
        },
        {
          "output_type": "display_data",
          "data": {
            "image/png": "[encoded data removed]",
            "text/plain": [
              "<Figure size 432x288 with 1 Axes>"
            ]
          },
          "metadata": {
            "tags": [],
            "needs_background": "light"
          }
        }
      ]
    },
    {
      "cell_type": "markdown",
      "metadata": {
        "id": "9G9RfiQ04NLV"
      },
      "source": [
        "Criação da sequência de pulsos que representam a bitstream binária\n",
        "\n"
      ]
    },
    {
      "cell_type": "code",
      "metadata": {
        "id": "xeYh-SK31c-d",
        "colab": {
          "base_uri": "https://localhost:8080/",
          "height": 286
        },
        "outputId": "911c97e2-6c03-4742-8415-40b4d39e77d7"
      },
      "source": [
        "fc = 4000 \n",
        "fs = 20*fc   # Frequencia de amostragem  \n",
        "ts = np.arange(0, (100 * size) / fs, 1 / fs) \n",
        "portadora = np.cos(np.dot(2 * pi * fc, ts))\n",
        "  \n",
        "modulacao = np.cos(np.dot(2 * pi * fc, ts) + pi * (m - 1) + pi / 4)\n",
        "  \n",
        "# Forma de onda modulada \n",
        "ax2 = fig.add_subplot(3, 1, 2) \n",
        "ax2.set_title('Sinal modulado', fontsize = 15)\n",
        "plt.axis([0,size,-1.5, 1.5])\n",
        "plt.plot(t, modulacao, 'r')"
      ],
      "execution_count": null,
      "outputs": [
        {
          "output_type": "execute_result",
          "data": {
            "text/plain": [
              "[<matplotlib.lines.Line2D at 0x7f620f589828>]"
            ]
          },
          "metadata": {
            "tags": []
          },
          "execution_count": 131
        },
        {
          "output_type": "display_data",
          "data": {
            "image/png": "[encoded data removed]",
            "text/plain": [
              "<Figure size 432x288 with 1 Axes>"
            ]
          },
          "metadata": {
            "tags": [],
            "needs_background": "light"
          }
        }
      ]
    },
    {
      "cell_type": "markdown",
      "metadata": {
        "id": "Zh8w4iUY4jFN"
      },
      "source": [
        "Adição do ruído do canal AWGN"
      ]
    },
    {
      "cell_type": "code",
      "metadata": {
        "id": "5m_T_Cnn1gAS",
        "colab": {
          "base_uri": "https://localhost:8080/",
          "height": 286
        },
        "outputId": "ac85934b-1dd1-4643-d919-5ea4c80022dd"
      },
      "source": [
        "def awgn(y, snr):\n",
        "    snr = 10 ** (snr / 10.0) \n",
        "    xpower = np.sum(y ** 2) / len(y) \n",
        "    npower = xpower / snr\n",
        "    return np.random.randn(len(y)) * np.sqrt(npower) + y\n",
        "  \n",
        "#Ruido \n",
        "sinal_contaminado = awgn(modulacao, 0.00001)  # sinal contaminado\n",
        " \n",
        "  \n",
        "#Sinal modulado sobreposto por ruido  \n",
        "ax3 = fig.add_subplot(3, 1, 3) \n",
        "ax3.set_title('Forma de onda sobreposta pelo ruido', fontsize = 15) \n",
        "plt.axis([0, size, -1.5, 1.5]) \n",
        "plt.plot(t, sinal_contaminado, 'r')\n",
        " "
      ],
      "execution_count": null,
      "outputs": [
        {
          "output_type": "execute_result",
          "data": {
            "text/plain": [
              "[<matplotlib.lines.Line2D at 0x7f620f627320>]"
            ]
          },
          "metadata": {
            "tags": []
          },
          "execution_count": 132
        },
        {
          "output_type": "display_data",
          "data": {
            "image/png": "[encoded data removed]",
            "text/plain": [
              "<Figure size 432x288 with 1 Axes>"
            ]
          },
          "metadata": {
            "tags": [],
            "needs_background": "light"
          }
        }
      ]
    },
    {
      "cell_type": "markdown",
      "metadata": {
        "id": "PLEj8cK84qf7"
      },
      "source": [
        "Processos de filtragem e demodulação"
      ]
    },
    {
      "cell_type": "code",
      "metadata": {
        "id": "n6Q4tExS1h4R",
        "colab": {
          "base_uri": "https://localhost:8080/",
          "height": 147
        },
        "outputId": "5b447e40-e878-4a73-dffb-e6fe6bbd870f"
      },
      "source": [
        "# Banda passante [2000,6000] \n",
        "[b11,a11] = signal.ellip(5, 0.5, 60, [2000*2/80000, 6000*2/80000], btype = 'bandpass', analog = False, output = 'ba')\n",
        " \n",
        " \n",
        "# Projeto de filtro passa-baixos, frequência de corte de banda passante: 2000 Hz\n",
        "[b12,a12] = signal.ellip(5, 0.5, 60, (2000 * 2 / 80000), btype = 'lowpass', analog = False, output = 'ba')\n",
        " \n",
        " \n",
        "# Filtragem do ruido: filtro passa banda \n",
        "saida_bandapassante = signal.filtfilt(b11, a11, sinal_contaminado)\n",
        " \n",
        " \n",
        "# Demodulacao multiplicacao por portadora em fase \n",
        "demodulacao = saida_bandapassante * (portadora * 2)\n",
        " \n",
        "\n",
        "# Filtro passa baixa \n",
        "saida_passabaixas = signal.filtfilt(b12, a12, demodulacao)\n",
        "fig2 = plt.figure()\n",
        "bx1 = fig2.add_subplot(3, 1, 1) \n",
        "bx1.set_title('Sinal apos filtragem passa baixas', fontsize = 15)\n",
        "plt.axis([0, size, -1.5, 1.5]) \n",
        "plt.plot(t, saida_passabaixas, 'r')\n"
      ],
      "execution_count": null,
      "outputs": [
        {
          "output_type": "execute_result",
          "data": {
            "text/plain": [
              "[<matplotlib.lines.Line2D at 0x7f620f49f4a8>]"
            ]
          },
          "metadata": {
            "tags": []
          },
          "execution_count": 133
        },
        {
          "output_type": "display_data",
          "data": {
            "image/png": "[encoded data removed]",
            "text/plain": [
              "<Figure size 432x288 with 1 Axes>"
            ]
          },
          "metadata": {
            "tags": [],
            "needs_background": "light"
          }
        }
      ]
    },
    {
      "cell_type": "markdown",
      "metadata": {
        "id": "uAjtPFIg4wIb"
      },
      "source": [
        "Processo de decisão "
      ]
    },
    {
      "cell_type": "code",
      "metadata": {
        "id": "bmwbSUTo1lTN",
        "colab": {
          "base_uri": "https://localhost:8080/",
          "height": 269
        },
        "outputId": "4bfe5772-9d0b-4f7e-a6cb-81fc2c1d1d04"
      },
      "source": [
        "decisao = np.zeros(len(t), dtype=np.float32)\n",
        "flag = np.zeros(size, dtype=np.float32)\n",
        " \n",
        "  \n",
        "for i in range(100):\n",
        " tempF = 0\n",
        " \n",
        " for j in range(100):\n",
        "     tempF = tempF + saida_passabaixas[i * 100 + j]\n",
        "     \n",
        " if tempF > 0:\n",
        "     flag[i] = 1\n",
        " else:\n",
        "     flag[i] = 0\n",
        " \n",
        "    \n",
        "for i in range(size):\n",
        " if flag[i] == 0:\n",
        "     for j in range(100):\n",
        "         decisao[i * 100 + j] = 0\n",
        " else:\n",
        "     for j in range(100):\n",
        "         decisao[i * 100 + j] = 1\n",
        " \n",
        " \n",
        "\n",
        "bx2 = fig2.add_subplot(3, 1, 2)\n",
        "bx2.set_title('Sinal apos processo de decisao', fontsize = 15)\n",
        "plt.axis([0, size, -0.5, 1.5])\n",
        "plt.plot(t, decisao, 'r')\n",
        "plt.show()"
      ],
      "execution_count": null,
      "outputs": [
        {
          "output_type": "display_data",
          "data": {
            "image/png": "[encoded data removed]",
            "text/plain": [
              "<Figure size 432x288 with 1 Axes>"
            ]
          },
          "metadata": {
            "tags": [],
            "needs_background": "light"
          }
        }
      ]
    },
    {
      "cell_type": "markdown",
      "metadata": {
        "id": "uwYJNpmekUop"
      },
      "source": [
        "Partindo da construção para o caso BPSK com número de simbolos M igual a 2 reavaliamos a construção para o calculo da probabilidade de erro\n"
      ]
    },
    {
      "cell_type": "code",
      "metadata": {
        "id": "mv3CK22Skj3K",
        "colab": {
          "base_uri": "https://localhost:8080/",
          "height": 386
        },
        "outputId": "d0b01f92-f30c-4698-83a4-7d82dd07ad06"
      },
      "source": [
        "n_simbolos = 10**3                                  # Numero de simbolos a serem transmitidos \n",
        "EbN0dBs = np.arange(start=-4,stop = 13, step = 2)   # relacao Eb/N0 em dB \n",
        "BER_simulada = np.zeros(len(EbN0dBs))               # Taxa de erro de bit da simulacao \n",
        "\n",
        "EbN0dBs\n",
        "\n",
        "M = 2                                   # Numero de pontos da constelacao \n",
        "m = np.arange(0,M)                      # Simbolos possiveis (todas as entradas)\n",
        "A = 1;                                  # Amplitude\n",
        "constelacao = A*np.cos(m/M*2*np.pi)     # Constelacao de referencia, Fiz com M = 2 --> BPSK\n",
        "\n",
        "\n",
        "#----------------------------------#\n",
        "#   Transmissao via canal AWGNW    #\n",
        "#----------------------------------#\n",
        "simbolos_entrada = np.random.randint(low = 0, high = M, size = n_simbolos)  #sequencia de 0s e 1s aleatorios como entrada do modulador\n",
        "s = constelacao[simbolos_entrada]   #simbolos modulados \n",
        "\n",
        "#fig, ax1 = plt.subplots(nrows = 1, ncols = 1)\n",
        "#ax1.plot(np.real(constelacao), np.imag(constelacao),'*')    # plota a constelacao demarcando os pontos com asterisco \n",
        "\n",
        "\n",
        "\n",
        "#----------------------------------#\n",
        "#   Modelagem do canal             #\n",
        "#----------------------------------#\n",
        "# Calculo da potencia dos simbolos modulados e adicao de ruido AWG \n",
        "\n",
        "for j,EbN0dB in enumerate(EbN0dBs):\n",
        "    gamma = 10**(EbN0dB/10)                              # Relacao SNR em escala linear \n",
        "    P = sum(abs(s)**2)/len(s)                            # Potencia do vetor (real)\n",
        "    N0 = P/gamma                                         # Densidade espectral de potencia do ruido \n",
        "    n = np.sqrt(N0/2)*np.random.standard_normal(s.shape) # vetor ruido \n",
        "    r = s + n                                            # sinal recebido = simbolos + ruido \n",
        "\n",
        "#------------------------------------------------------#\n",
        "#   Modelagem do Receptor: Detector de correlacao      #\n",
        "#------------------------------------------------------#\n",
        "    simbolos_detectados = (r <= 0).astype(int)                                      # limiar em 0\n",
        "    BER_simulada[j] = np.sum(simbolos_detectados != simbolos_entrada)/n_simbolos    # calculo da BER   \n",
        "    BER_simulada[j]\n",
        "\n",
        "BER_teorica = 0.5*erfc(np.sqrt(10**(EbN0dBs/10)))\n",
        "\n",
        "fig, ax = plt.subplots(nrows = 1, ncols = 1)\n",
        "ax.semilogy(EbN0dBs,BER_simulada, color='r',marker='o',linestyle='',label='Simulacao')\n",
        "ax.semilogy(EbN0dBs,BER_teorica, marker='',linestyle='-',label='Teoria')\n",
        "ax.set_xlabel('$E_b/N_0(dB)$');ax.set_ylabel('BER ($P_b$)')\n",
        "ax.set_title('Probabilidade de Erro de Bit para o BPSK em uma canal AWGN')      # Usei M=2, portanto BPSK\n",
        "ax.set_xlim(-5,13);ax.grid(True);\n",
        "ax.legend();\n",
        "plt.show()\n",
        "\n",
        "bitstream = a\n",
        "bitstream\n"
      ],
      "execution_count": null,
      "outputs": [
        {
          "output_type": "display_data",
          "data": {
            "image/png": "[encoded data removed]",
            "text/plain": [
              "<Figure size 432x288 with 1 Axes>"
            ]
          },
          "metadata": {
            "tags": [],
            "needs_background": "light"
          }
        },
        {
          "output_type": "execute_result",
          "data": {
            "text/plain": [
              "array([0, 0, 0, 0, 1, 1, 0, 0, 0, 0, 0, 0, 1, 1, 1, 0, 1, 0, 0, 0, 1, 0,\n",
              "       1, 1, 0, 1, 1, 0, 1, 0, 1, 0, 1, 0, 0, 0, 1, 0, 1, 1, 0, 0, 0, 0,\n",
              "       0, 0, 0, 0, 1, 0, 0, 1, 0, 1, 0, 0, 0, 0, 0, 1, 1, 1, 1, 1, 0, 1,\n",
              "       0, 0, 0, 1, 1, 0, 0, 1, 0, 0, 0, 1, 0, 0, 0, 1, 1, 0, 0, 0, 0, 0,\n",
              "       1, 0, 0, 1, 1, 1, 1, 0, 0, 1, 0, 1])"
            ]
          },
          "metadata": {
            "tags": []
          },
          "execution_count": 135
        }
      ]
    },
    {
      "cell_type": "code",
      "metadata": {
        "id": "mGILhJ-BreTl",
        "colab": {
          "base_uri": "https://localhost:8080/"
        },
        "outputId": "31d40436-a777-4ca7-88a6-959ce4fd126f"
      },
      "source": [
        "bitstream_recebida"
      ],
      "execution_count": null,
      "outputs": [
        {
          "output_type": "execute_result",
          "data": {
            "text/plain": [
              "array([0., 1., 0., 1., 1., 1., 1., 1., 1., 0., 1., 0., 1., 0., 0., 0., 0.,\n",
              "       0., 0., 1., 0., 1., 1., 0., 0., 0., 0., 1., 1., 1., 1., 0., 1., 0.,\n",
              "       0., 1., 1., 0., 1., 1., 1., 0., 1., 0., 0., 1., 0., 0., 0., 0., 1.,\n",
              "       0., 0., 0., 1., 0., 1., 1., 0., 0., 1., 1., 1., 1., 1., 1., 0., 1.,\n",
              "       1., 1., 0., 0., 0., 0., 1., 0., 0., 1., 1., 0., 0., 0., 1., 1., 0.,\n",
              "       1., 1., 0., 1., 0., 0., 1., 0., 1., 0., 1., 1., 1., 1., 1.],\n",
              "      dtype=float32)"
            ]
          },
          "metadata": {
            "tags": []
          },
          "execution_count": 136
        }
      ]
    }
  ]
}